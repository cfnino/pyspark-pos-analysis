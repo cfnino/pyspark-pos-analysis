{
 "cells": [
  {
   "cell_type": "markdown",
   "id": "552b697b-1878-40ba-aeeb-969557e0e143",
   "metadata": {},
   "source": [
    "# PySpark Part of Speech (POS) analysis\n",
    "Text taken from [Reuters](https://www.reuters.com/business/finance/banks-beware-outsiders-are-cracking-code-finance-2021-09-17/)."
   ]
  },
  {
   "cell_type": "code",
   "execution_count": 12,
   "id": "7cd1ede6-d16a-4a00-bd87-1f62a8c5f149",
   "metadata": {},
   "outputs": [],
   "source": [
    "from nltk import word_tokenize, pos_tag\n",
    "from pyspark import SparkContext"
   ]
  },
  {
   "cell_type": "code",
   "execution_count": 2,
   "id": "46c21e6e-08f3-4755-b0d3-2caa83441d6c",
   "metadata": {},
   "outputs": [
    {
     "name": "stderr",
     "output_type": "stream",
     "text": [
      "[nltk_data] Downloading package punkt to /home/carlos/nltk_data...\n",
      "[nltk_data]   Unzipping tokenizers/punkt.zip.\n",
      "[nltk_data] Downloading package averaged_perceptron_tagger to\n",
      "[nltk_data]     /home/carlos/nltk_data...\n",
      "[nltk_data]   Unzipping taggers/averaged_perceptron_tagger.zip.\n"
     ]
    },
    {
     "data": {
      "text/plain": [
       "True"
      ]
     },
     "execution_count": 2,
     "metadata": {},
     "output_type": "execute_result"
    }
   ],
   "source": [
    "nltk.download(\"punkt\")\n",
    "nltk.download(\"averaged_perceptron_tagger\")"
   ]
  },
  {
   "cell_type": "code",
   "execution_count": 3,
   "id": "23067b1b-24a8-4e92-8998-04aabe98c1b7",
   "metadata": {},
   "outputs": [],
   "source": [
    "sc = SparkContext(\"spark://carlos:7077\", appName = \"pyspark-pos-analysis\")"
   ]
  },
  {
   "cell_type": "code",
   "execution_count": 4,
   "id": "d3867cc9-1200-454b-b808-46ff63273be8",
   "metadata": {},
   "outputs": [],
   "source": [
    "# Loading a text file\n",
    "rdd_reuters = sc.textFile(\"./data/reuters.txt\")"
   ]
  },
  {
   "cell_type": "code",
   "execution_count": 5,
   "id": "c010db1d-f71e-4a8d-992c-076d7e16b777",
   "metadata": {},
   "outputs": [
    {
     "data": {
      "text/plain": [
       "87"
      ]
     },
     "execution_count": 5,
     "metadata": {},
     "output_type": "execute_result"
    }
   ],
   "source": [
    "rdd_reuters.count()"
   ]
  },
  {
   "cell_type": "code",
   "execution_count": 84,
   "id": "cedfbbcf-b463-434f-862d-635ae8bdd5b3",
   "metadata": {},
   "outputs": [
    {
     "data": {
      "text/plain": [
       "[('NN', 168),\n",
       " ('IN', 143),\n",
       " ('NNP', 127),\n",
       " ('NNS', 126),\n",
       " ('JJ', 88),\n",
       " ('DT', 82),\n",
       " (',', 69),\n",
       " ('VB', 61),\n",
       " ('.', 53),\n",
       " ('RB', 51),\n",
       " ('CC', 45),\n",
       " ('PRP', 42),\n",
       " ('TO', 42),\n",
       " ('VBP', 41),\n",
       " ('VBZ', 37),\n",
       " ('CD', 35),\n",
       " ('VBD', 34),\n",
       " ('VBG', 28),\n",
       " ('VBN', 26),\n",
       " ('MD', 19),\n",
       " ('(', 18),\n",
       " (')', 18),\n",
       " ('``', 15),\n",
       " (\"''\", 15),\n",
       " ('PRP$', 13),\n",
       " ('$', 13),\n",
       " ('POS', 10),\n",
       " ('WRB', 8),\n",
       " (':', 8),\n",
       " ('WDT', 8),\n",
       " ('RP', 7),\n",
       " ('JJR', 5),\n",
       " ('JJS', 3),\n",
       " ('WP', 1),\n",
       " ('RBS', 1),\n",
       " ('EX', 1),\n",
       " ('NNPS', 1),\n",
       " ('PDT', 1),\n",
       " ('RBR', 1)]"
      ]
     },
     "execution_count": 84,
     "metadata": {},
     "output_type": "execute_result"
    }
   ],
   "source": [
    "rdd_reuters.flatMap(lambda x: pos_tag(word_tokenize(x))) \\\n",
    "    .map(lambda word: word[1]) \\\n",
    "    .map(lambda w : (w,1)) \\\n",
    "    .reduceByKey(lambda a, b: a + b) \\\n",
    "    .map(lambda x: (x[1], x[0])) \\\n",
    "    .sortByKey(ascending = False) \\\n",
    "    .map(lambda x: (x[1], x[0])) \\\n",
    "    .collect()"
   ]
  },
  {
   "cell_type": "code",
   "execution_count": null,
   "id": "ca224922-5dad-4f20-9d57-eb8dec11fa04",
   "metadata": {},
   "outputs": [],
   "source": [
    "sc.stop()"
   ]
  }
 ],
 "metadata": {
  "kernelspec": {
   "display_name": "Python 3",
   "language": "python",
   "name": "python3"
  },
  "language_info": {
   "codemirror_mode": {
    "name": "ipython",
    "version": 3
   },
   "file_extension": ".py",
   "mimetype": "text/x-python",
   "name": "python",
   "nbconvert_exporter": "python",
   "pygments_lexer": "ipython3",
   "version": "3.8.8"
  }
 },
 "nbformat": 4,
 "nbformat_minor": 5
}
